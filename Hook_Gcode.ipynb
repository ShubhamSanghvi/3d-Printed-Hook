{
 "cells": [
  {
   "cell_type": "markdown",
   "metadata": {},
   "source": [
    "## Multiple Gcode printing code\n",
    "### final gcode file  multiple_hook.gcode\n",
    "### Results shown in the presentation \n",
    "[https://drive.google.com/file/d/1Hk8GftgXWU7oWLtCHuihpIGchI_MEquz/view?usp=sharing]"
   ]
  },
  {
   "cell_type": "code",
   "execution_count": 40,
   "metadata": {},
   "outputs": [],
   "source": [
    "## depends on model\n",
    "ecurrent = 26.0\n",
    "zorig = 0\n",
    "xstart = 100\n",
    "ystart = 132\n",
    "ynum = 8\n",
    "xnum = 8\n",
    "\n",
    "\n",
    "## config\n",
    "ebase = 1.0\n",
    "estem = 0.5\n",
    "ybranch = 4\n",
    "feedrate = 50\n",
    "waittime = 2000\n",
    "\n",
    "zbase = zorig + 1\n",
    "zstem = zorig + 4\n",
    "zmid  = zorig + 3\n",
    "zretrace = zorig + 2\n",
    "\n",
    "xdiff = 4\n",
    "ydiff = 4\n",
    "xoffest= 2\n",
    "   \n",
    "y = ystart\n",
    "gcode = []\n",
    "\n",
    "e = ecurrent\n",
    "\n",
    "for _ in range(ynum):\n",
    "        x = xstart\n",
    "        for _ in range(xnum):\n",
    "            linecode = \"G0 F2700 X\" + str(x) +\" Y\" + str(y) + \" Z\" + str(zbase)\n",
    "            gcode.append(linecode)\n",
    "            e += ebase\n",
    "            linecode = \"G1 X\" + str(x) +\" Y\" + str(y) + \" E\" + \"{:.2f}\".format(e)\n",
    "            gcode.append(linecode)\n",
    "            linecode = \"G4 P\" + str(waittime)\n",
    "            gcode.append(linecode)\n",
    "            e+= estem\n",
    "            linecode = \"G1 F\"+ str(feedrate) + \" X\" + str(x) +\" Y\" + str(y) + \" Z\"+ str(zstem) + \" E\" + \"{:.2f}\".format(e)\n",
    "            gcode.append(linecode)\n",
    "            linecode = \"G0 X\" + str(x + xoffest) +\" Y\" + str(y + ybranch) + \" Z\"+ str(zmid)\n",
    "            gcode.append(linecode)\n",
    "            linecode = \"G0 X\" + str(x + xoffest) +\" Y\" + str(y - 50) + \" Z\" + str(zretrace) + \" F15000\"\n",
    "            gcode.append(linecode)\n",
    "            gcode.append(\"\")\n",
    "            x += xdiff\n",
    "        y -= ydiff"
   ]
  },
  {
   "cell_type": "code",
   "execution_count": null,
   "metadata": {
    "scrolled": false
   },
   "outputs": [],
   "source": [
    "print('\\n'.join(gcode))\n",
    "# G0 F2700 X103 Y97 Z1\n",
    "# G1 X103 Y97 E27.50\n",
    "# G4 P1000\n",
    "# G1 F50 X103 Y97 Z3 E28.00\n",
    "# G0 X103 Y100 Z2\n",
    "# G0 X103 Y47 Z2 F15000\n"
   ]
  },
  {
   "cell_type": "markdown",
   "metadata": {},
   "source": [
    "## Loops on 4 cm x 4 cm cube with 20 % infill\n",
    "### Gcode file : cube_infill20_hook.gcode"
   ]
  },
  {
   "cell_type": "code",
   "execution_count": 59,
   "metadata": {},
   "outputs": [],
   "source": [
    "## depends on model\n",
    "ecurrent = 928.30\n",
    "zorig = 2.24\n",
    "xstart = 100\n",
    "ystart = 132\n",
    "ynum = 8\n",
    "xnum = 8\n",
    "\n",
    "\n",
    "## config\n",
    "ebase = 1.5\n",
    "estem = 0.5\n",
    "ystem = 4\n",
    "\n",
    "zbase = zorig + 1\n",
    "zstem = zorig + 4\n",
    "zmid  = zorig + 3\n",
    "zretrace = zorig + 2\n",
    "\n",
    "xdiff = 4\n",
    "ydiff = 4\n",
    "xoffest= 2\n",
    "   \n",
    "feedrate = 50\n",
    "waittime = 3000\n",
    "y = ystart\n",
    "gcode = []\n",
    "\n",
    "e = ecurrent\n",
    "\n",
    "for _ in range(ynum):\n",
    "        x = xstart\n",
    "        for _ in range(xnum):\n",
    "            linecode = \"G0 F2700 X\" + str(x) +\" Y\" + str(y) + \" Z\" + str(zbase)\n",
    "            gcode.append(linecode)\n",
    "            e += ebase\n",
    "            linecode = \"G1 X\" + str(x) +\" Y\" + str(y) + \" E\" + \"{:.2f}\".format(e)\n",
    "            gcode.append(linecode)\n",
    "            linecode = \"G4 P\" + str(waittime)\n",
    "            gcode.append(linecode)\n",
    "            e+= estem\n",
    "            linecode = \"G1 F\"+ str(feedrate) + \" X\" + str(x) +\" Y\" + str(y) + \" Z\"+ str(zstem) + \" E\" + \"{:.2f}\".format(e)\n",
    "            gcode.append(linecode)\n",
    "            linecode = \"G0 X\" + str(x + xoffest) +\" Y\" + str(y + ystem) + \" Z\"+ str(zmid)\n",
    "            gcode.append(linecode)\n",
    "            linecode = \"G0 X\" + str(x + xoffest) +\" Y\" + str(y - 50) + \" Z\" + str(zretrace) + \" F15000\"\n",
    "            gcode.append(linecode)\n",
    "            gcode.append(\"\")\n",
    "            x += xdiff\n",
    "        y -= ydiff"
   ]
  },
  {
   "cell_type": "code",
   "execution_count": null,
   "metadata": {
    "scrolled": true
   },
   "outputs": [],
   "source": [
    "print('\\n'.join(gcode))"
   ]
  },
  {
   "cell_type": "markdown",
   "metadata": {},
   "source": [
    "## Loops on 4 cm x 4 cm cube with 100 % infill\n",
    "### Gcode file : cube_infill100_hook.gcode"
   ]
  },
  {
   "cell_type": "code",
   "execution_count": null,
   "metadata": {},
   "outputs": [],
   "source": [
    "ecurrent = 557.30\n",
    "zorig = 1.0\n",
    "xstart = 100\n",
    "ystart = 132\n",
    "ynum = 8\n",
    "xnum = 8\n",
    "\n",
    "## config\n",
    "ebase = 2.0\n",
    "estem = 0.5\n",
    "ystem = 4\n",
    "\n",
    "zbase = zorig + 1\n",
    "zstem = zorig + 4\n",
    "zmid  = zorig + 3\n",
    "zretrace = zorig + 2\n",
    "\n",
    "xdiff = 4\n",
    "ydiff = 4\n",
    "xoffest= 2\n",
    "   \n",
    "feedrate = 50\n",
    "waittime = 4000\n",
    "y = ystart\n",
    "gcode = []\n",
    "\n",
    "e = ecurrent\n",
    "\n",
    "for _ in range(ynum):\n",
    "        x = xstart\n",
    "        for _ in range(xnum):\n",
    "            linecode = \"G0 F2700 X\" + str(x) +\" Y\" + str(y) + \" Z\" + str(zbase)\n",
    "            gcode.append(linecode)\n",
    "            e += ebase\n",
    "            linecode = \"G1 X\" + str(x) +\" Y\" + str(y) + \" E\" + \"{:.2f}\".format(e)\n",
    "            gcode.append(linecode)\n",
    "            linecode = \"G4 P\" + str(waittime)\n",
    "            gcode.append(linecode)\n",
    "            e+= estem\n",
    "            linecode = \"G1 F\"+ str(feedrate) + \" X\" + str(x) +\" Y\" + str(y) + \" Z\"+ str(zstem) + \" E\" + \"{:.2f}\".format(e)\n",
    "            gcode.append(linecode)\n",
    "            linecode = \"G0 X\" + str(x + xoffest) +\" Y\" + str(y + ystem) + \" Z\"+ str(zmid)\n",
    "            gcode.append(linecode)\n",
    "            linecode = \"G0 X\" + str(x + xoffest) +\" Y\" + str(y - 50) + \" Z\" + str(zretrace) + \" F15000\"\n",
    "            gcode.append(linecode)\n",
    "            gcode.append(\"\")\n",
    "            x += xdiff\n",
    "        y -= ydiff"
   ]
  },
  {
   "cell_type": "code",
   "execution_count": null,
   "metadata": {},
   "outputs": [],
   "source": [
    "print('\\n'.join(gcode))"
   ]
  }
 ],
 "metadata": {
  "kernelspec": {
   "display_name": "Python 3",
   "language": "python",
   "name": "python3"
  },
  "language_info": {
   "codemirror_mode": {
    "name": "ipython",
    "version": 3
   },
   "file_extension": ".py",
   "mimetype": "text/x-python",
   "name": "python",
   "nbconvert_exporter": "python",
   "pygments_lexer": "ipython3",
   "version": "3.7.3"
  }
 },
 "nbformat": 4,
 "nbformat_minor": 2
}
